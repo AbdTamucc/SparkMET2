{
 "cells": [
  {
   "cell_type": "code",
   "execution_count": 1,
   "metadata": {},
   "outputs": [],
   "source": [
    "%load_ext autoreload\n",
    "%autoreload 2\n",
    "import warnings\n",
    "warnings.filterwarnings('ignore')"
   ]
  },
  {
   "cell_type": "code",
   "execution_count": 2,
   "metadata": {},
   "outputs": [],
   "source": [
    "import os\n",
    "import os.path as path\n",
    "import time\n",
    "import glob \n",
    "import numpy as np\n",
    "import pandas as pd\n",
    "import time\n",
    "import json\n",
    "from numpy import savez_compressed\n",
    "from numpy import load"
   ]
  },
  {
   "cell_type": "code",
   "execution_count": 3,
   "metadata": {},
   "outputs": [],
   "source": [
    "import os\n",
    "import sys\n",
    "sys.path.insert(0, os.path.abspath('./FogDataEDA'))\n",
    "import FogDataNpzGen as FG\n",
    "import FogDataloader as dataloader"
   ]
  },
  {
   "cell_type": "code",
   "execution_count": 4,
   "metadata": {},
   "outputs": [],
   "source": [
    "FogDataConfigs = FG.FogData_Configs(input_path      = None, \n",
    "                                     target_path     = None, \n",
    "                                     start_date      = FG.year_information['2009'][0], \n",
    "                                     finish_date     = FG.year_information['2020'][1], \n",
    "                                     data_split_dict = FG.data_split_dict_[0], \n",
    "                                     data_straucture = '1D',\n",
    "                                     lead_time_pred  = 24, \n",
    "                                     vis_threshold   = 1, \n",
    "                                     points_coords   = FG.NAM_coords,  \n",
    "                                     predictor_names = FG.NETCDF_PREDICTOR_NAMES['All']).return_config()"
   ]
  },
  {
   "cell_type": "code",
   "execution_count": 5,
   "metadata": {},
   "outputs": [],
   "source": [
    "train_df, valid_df, test_df = FG.input_dataframe_generater(img_path   = None, \n",
    "                                            target_path            = None, \n",
    "                                            first_date_string      = FogDataConfigs['start_date'], \n",
    "                                            last_date_string       = FogDataConfigs['finish_date'], \n",
    "                                            target_binarizing_thre = FogDataConfigs['vis_threshold'], \n",
    "                                            year_split_dict        = FogDataConfigs['data_split_dict']).split_data_train_valid_test()\n"
   ]
  },
  {
   "cell_type": "code",
   "execution_count": 6,
   "metadata": {},
   "outputs": [],
   "source": [
    "mean_std_dict_name = '/data1/fog/Hamid/SparkMET/EXPs/mean_std.json' \n",
    "with open(mean_std_dict_name, 'r') as file:\n",
    "    norm_mean_std_dict = json.load(file)"
   ]
  },
  {
   "cell_type": "code",
   "execution_count": 15,
   "metadata": {},
   "outputs": [],
   "source": [
    "train_dataset = dataloader.DataAdopter(train_df, \n",
    "                                        map_structure         = '1D', \n",
    "                                        predictor_names       = dataloader.NETCDF_PREDICTOR_NAMES['All'], \n",
    "                                        lead_time_pred        = 24, \n",
    "                                        mean_std_dict         = norm_mean_std_dict,\n",
    "                                        point_geolocation_dic = dataloader.NAM_coords)"
   ]
  },
  {
   "cell_type": "code",
   "execution_count": null,
   "metadata": {},
   "outputs": [],
   "source": [
    "train_dataset_dict = FG.FogDataNPZ(train_df, \n",
    "                            map_structure         = FogDataConfigs['data_straucture'], \n",
    "                            predictor_names       = FogDataConfigs['predictor_names'], \n",
    "                            lead_time_pred        = FogDataConfigs['lead_time_pred'], \n",
    "                            mean_std_dict         = norm_mean_std_dict,\n",
    "                            point_geolocation_dic = FogDataConfigs['points_coords']).return_data_dict()"
   ]
  },
  {
   "cell_type": "code",
   "execution_count": 19,
   "metadata": {},
   "outputs": [
    {
     "data": {
      "text/plain": [
       "torch.Size([4, 32, 32, 97])"
      ]
     },
     "execution_count": 19,
     "metadata": {},
     "output_type": "execute_result"
    }
   ],
   "source": [
    "train_dataset_dict['20130101_0000']['input'].shape"
   ]
  },
  {
   "cell_type": "code",
   "execution_count": 20,
   "metadata": {},
   "outputs": [],
   "source": [
    "nam_cube_path = '/data1/fog/Dataset/train_24.npz'\n",
    "savez_compressed(nam_cube_path, train_dataset_dict)"
   ]
  },
  {
   "cell_type": "code",
   "execution_count": 11,
   "metadata": {},
   "outputs": [],
   "source": [
    "valid_df.to_csv('/data1/fog/Dataset/valid_2.csv')"
   ]
  },
  {
   "cell_type": "code",
   "execution_count": 9,
   "metadata": {},
   "outputs": [],
   "source": [
    "valid_dataset_dict = FG.FogDataNPZ(valid_df, \n",
    "                            map_structure         = FogDataConfigs['data_straucture'], \n",
    "                            predictor_names       = FogDataConfigs['predictor_names'], \n",
    "                            lead_time_pred        = FogDataConfigs['lead_time_pred'], \n",
    "                            mean_std_dict         = norm_mean_std_dict,\n",
    "                            point_geolocation_dic = FogDataConfigs['points_coords']).return_data_dict()\n",
    "valid_nam_cube_path = '/data1/fog/Dataset/valid_24_2.npz'\n",
    "savez_compressed(valid_nam_cube_path, valid_dataset_dict)\n",
    "\n",
    "# test_dataset_dict = FG.FogDataNPZ(test_df, \n",
    "#                             map_structure         = FogDataConfigs['data_straucture'], \n",
    "#                             predictor_names       = FogDataConfigs['predictor_names'], \n",
    "#                             lead_time_pred        = FogDataConfigs['lead_time_pred'], \n",
    "#                             mean_std_dict         = norm_mean_std_dict,\n",
    "#                             point_geolocation_dic = FogDataConfigs['points_coords']).return_data_dict()\n",
    "# test_nam_cube_path = '/data1/fog/Dataset/test_24.npz'\n",
    "# savez_compressed(test_nam_cube_path, test_dataset_dict)"
   ]
  },
  {
   "cell_type": "code",
   "execution_count": null,
   "metadata": {},
   "outputs": [],
   "source": [
    "train_dict = load('/data1/fog/Dataset/train_24.npz', allow_pickle=True,)#\n",
    "train_dict['arr_0'][0]"
   ]
  },
  {
   "cell_type": "code",
   "execution_count": null,
   "metadata": {},
   "outputs": [],
   "source": [
    "dict_ = train_dict['arr_0'].tolist()\n",
    "dict_"
   ]
  },
  {
   "cell_type": "code",
   "execution_count": 14,
   "metadata": {},
   "outputs": [
    {
     "data": {
      "text/plain": [
       "torch.Size([4, 32, 32, 97])"
      ]
     },
     "execution_count": 14,
     "metadata": {},
     "output_type": "execute_result"
    }
   ],
   "source": [
    "dict_['20130101_0000']['input'].shape"
   ]
  }
 ],
 "metadata": {
  "kernelspec": {
   "display_name": "deep-learning",
   "language": "python",
   "name": "python3"
  },
  "language_info": {
   "codemirror_mode": {
    "name": "ipython",
    "version": 3
   },
   "file_extension": ".py",
   "mimetype": "text/x-python",
   "name": "python",
   "nbconvert_exporter": "python",
   "pygments_lexer": "ipython3",
   "version": "3.8.18"
  },
  "orig_nbformat": 4
 },
 "nbformat": 4,
 "nbformat_minor": 2
}
